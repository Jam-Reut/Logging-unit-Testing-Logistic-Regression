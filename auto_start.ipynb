{
 "cells": [
  {
   "cell_type": "code",
   "execution_count": null,
   "metadata": {},
   "outputs": [],
   "source": [
    "import subprocess\n",
    "\n",
    "def run_command(cmd, title):\n",
    "    print(f\"=== {title} ===\")\n",
    "    result = subprocess.run(cmd, shell=True, text=True, capture_output=True)\n",
    "    print(result.stdout)\n",
    "    if result.stderr:\n",
    "        print(result.stderr)\n",
    "\n",
    "# 1️⃣ Modell mit Logging\n",
    "run_command(\"python logistic_model.py\", \"Starte logistic_model.py\")\n",
    "\n",
    "# 2️⃣ Unit-Tests\n",
    "run_command(\"python -m unittest test_logistic_model.py\", \"Starte Unit-Tests\")"
   ]
  }
 ],
 "metadata": {
  "kernelspec": {
   "display_name": "Python 3",
   "language": "python",
   "name": "python3"
  },
  "language_info": {
   "name": "python",
   "version": "3.10"
  }
 },
 "nbformat": 4,
 "nbformat_minor": 5
}
