import subprocess

def run_command(cmd, title):
    print(f"=== {title} ===")
    result = subprocess.run(cmd, shell=True, text=True, capture_output=True)
    print(result.stdout)
    if result.stderr:
        print(result.stderr)

# 1️⃣ Modell mit Logging
run_command("python logistic_model.py", "Starte logistic_model.py")

# 2️⃣ Unit-Tests
run_command("python -m unittest test_logistic_model.py", "Starte Unit-Tests")
