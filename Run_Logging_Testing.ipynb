import sys
import subprocess

def run_command(cmd, description):
    print(f"\n=== {description} ===")
    result = subprocess.run(cmd, shell=True)
    if result.returncode != 0:
        sys.exit(f"❌ Fehler bei: {description}")

# 1️⃣ Modell mit Logging ausführen
run_command("python logistic_model.py", "Starte logistic_model.py")

# 2️⃣ Unit-Tests ausführen
run_command("python -m unittest test_logistic_model.py", "Starte Unit-Tests")

print("\n✅ Alles erfolgreich ausgeführt!")
